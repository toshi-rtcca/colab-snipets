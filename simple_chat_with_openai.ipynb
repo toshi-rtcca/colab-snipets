{
  "nbformat": 4,
  "nbformat_minor": 0,
  "metadata": {
    "colab": {
      "provenance": [],
      "authorship_tag": "ABX9TyNr1HX4YjxVnZGqZ/W/MPO+",
      "include_colab_link": true
    },
    "kernelspec": {
      "name": "python3",
      "display_name": "Python 3"
    },
    "language_info": {
      "name": "python"
    }
  },
  "cells": [
    {
      "cell_type": "markdown",
      "metadata": {
        "id": "view-in-github",
        "colab_type": "text"
      },
      "source": [
        "<a href=\"https://colab.research.google.com/github/toshi-rtcca/colab-snippets/blob/main/simple_chat_with_openai.ipynb\" target=\"_parent\"><img src=\"https://colab.research.google.com/assets/colab-badge.svg\" alt=\"Open In Colab\"/></a>"
      ]
    },
    {
      "cell_type": "markdown",
      "source": [
        "# Simple chat with OpenAI's API\n",
        "\n",
        "You need to get the OpenAi API key before running this notebook.\n"
      ],
      "metadata": {
        "id": "cPQuQk8RFr-y"
      }
    },
    {
      "cell_type": "code",
      "execution_count": null,
      "metadata": {
        "id": "GicYdjt8FgsT"
      },
      "outputs": [],
      "source": [
        "# install openai module\n",
        "!pip install openai"
      ]
    },
    {
      "cell_type": "code",
      "source": [
        "# import libraries\n",
        "from google.colab import userdata\n",
        "from openai import OpenAI"
      ],
      "metadata": {
        "id": "156vFHn0HCdQ"
      },
      "execution_count": 2,
      "outputs": []
    },
    {
      "cell_type": "code",
      "source": [
        "# setup OpenAI client\n",
        "client = OpenAI(\n",
        "    api_key=userdata.get(\"OPENAI_API_KEY\"),\n",
        ")"
      ],
      "metadata": {
        "id": "0iXc9jYCHK59"
      },
      "execution_count": 3,
      "outputs": []
    },
    {
      "cell_type": "markdown",
      "source": [
        "## Chat function\n",
        "This function is created referencing [DeepLearning.AI's Shourt Cource](https://learn.deeplearning.ai/chatgpt-prompt-eng/lesson/1/introduction?_gl=1*n4ulyg*_ga_PZF1GBS1R1*MTcwMDUxNTAzOC43LjAuMTcwMDUxNTA0NC41NC4wLjA.).\n",
        "This lession is a really good introduction for prompt engineering. But the original function doesn't work on Google Colab because they use an older version OpenAI API."
      ],
      "metadata": {
        "id": "Lxmfc5guHql1"
      }
    },
    {
      "cell_type": "code",
      "source": [
        "def get_answer(\n",
        "    prompt: str,\n",
        "    model: str=\"gpt-3.5-turbo\") -> str:\n",
        "    messages = [\n",
        "        {\n",
        "            \"role\": \"user\",\n",
        "            \"content\": prompt\n",
        "            }\n",
        "        ]\n",
        "    response = client.chat.completions.create(\n",
        "        model=model,\n",
        "        messages=messages,\n",
        "        temperature=0, # this is the degree of randomness of the model's output\n",
        "    )\n",
        "    return response.choices[0].message.content"
      ],
      "metadata": {
        "id": "L_uzEdqsIkGJ"
      },
      "execution_count": 4,
      "outputs": []
    },
    {
      "cell_type": "markdown",
      "source": [
        "## sample chat"
      ],
      "metadata": {
        "id": "AXbtPyhrJxoK"
      }
    },
    {
      "cell_type": "code",
      "source": [
        "text = f\"\"\"\n",
        "You should express what you want a model to do by \\\n",
        "providing instructions that are as clear and \\\n",
        "specific as you can possibly make them. \\\n",
        "This will guide the model towards the desired output, \\\n",
        "and reduce the chances of receiving irrelevant \\\n",
        "or incorrect responses. Don't confuse writing a \\\n",
        "clear prompt with writing a short prompt. \\\n",
        "In many cases, longer prompts provide more clarity \\\n",
        "and context for the model, which can lead to \\\n",
        "more detailed and relevant outputs.\n",
        "\"\"\"\n",
        "prompt = f\"\"\"\n",
        "Summarize the text delimited by triple backticks \\\n",
        "into a single sentence within 15 words.\n",
        "```{text}```\n",
        "\"\"\"\n",
        "\n",
        "response = get_answer(prompt)\n",
        "print(response)"
      ],
      "metadata": {
        "id": "8W36W2uoKN37"
      },
      "execution_count": null,
      "outputs": []
    }
  ]
}