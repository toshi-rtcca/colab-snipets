{
  "nbformat": 4,
  "nbformat_minor": 0,
  "metadata": {
    "colab": {
      "provenance": [],
      "authorship_tag": "ABX9TyOaLr4uc2wIYtfLvvo+xbWl",
      "include_colab_link": true
    },
    "kernelspec": {
      "name": "python3",
      "display_name": "Python 3"
    },
    "language_info": {
      "name": "python"
    }
  },
  "cells": [
    {
      "cell_type": "markdown",
      "metadata": {
        "id": "view-in-github",
        "colab_type": "text"
      },
      "source": [
        "<a href=\"https://colab.research.google.com/github/toshi-rtcca/colab-snippets/blob/main/read_googlesheet.ipynb\" target=\"_parent\"><img src=\"https://colab.research.google.com/assets/colab-badge.svg\" alt=\"Open In Colab\"/></a>"
      ]
    },
    {
      "cell_type": "code",
      "execution_count": 1,
      "metadata": {
        "id": "P9KH2hlm9nvF"
      },
      "outputs": [],
      "source": [
        "import gspread\n",
        "import pandas as pd\n",
        "from google.auth import default\n",
        "from google.colab import userdata, auth"
      ]
    },
    {
      "cell_type": "code",
      "source": [
        "# authenticate user\n",
        "auth.authenticate_user()"
      ],
      "metadata": {
        "id": "AU20HaJwBGqC"
      },
      "execution_count": 8,
      "outputs": []
    },
    {
      "cell_type": "code",
      "source": [
        "# access Google Spreasheets\n",
        "default_creds, _ = default()\n",
        "spredsheet_creds = gspread.authorize(default_creds)"
      ],
      "metadata": {
        "id": "163A_dGT-lCp"
      },
      "execution_count": 9,
      "outputs": []
    },
    {
      "cell_type": "code",
      "source": [
        "# get the spread sheet's key from SECRETS\n",
        "sheet_id = userdata.get('SHEET_ID')\n",
        "# opne a book and a sheet\n",
        "workbook = spredsheet_creds.open_by_key(sheet_id)\n",
        "worksheet = workbook.get_worksheet(0)"
      ],
      "metadata": {
        "id": "CY0SIy9R_Z-4"
      },
      "execution_count": 10,
      "outputs": []
    },
    {
      "cell_type": "code",
      "source": [
        "# read data from the sheet\n",
        "df = pd.DataFrame(worksheet.get_all_values())\n",
        "df"
      ],
      "metadata": {
        "id": "6-pfZiwLBwds"
      },
      "execution_count": null,
      "outputs": []
    }
  ]
}